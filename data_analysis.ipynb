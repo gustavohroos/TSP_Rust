{
 "cells": [
  {
   "cell_type": "code",
   "execution_count": 4,
   "metadata": {},
   "outputs": [],
   "source": [
    "import pandas as pd\n",
    "import numpy as np \n",
    "import matplotlib.pyplot"
   ]
  },
  {
   "cell_type": "code",
   "execution_count": 5,
   "metadata": {},
   "outputs": [
    {
     "data": {
      "text/plain": [
       "4"
      ]
     },
     "execution_count": 5,
     "metadata": {},
     "output_type": "execute_result"
    }
   ],
   "source": [
    "df = pd.read_csv('report_without_prints.csv')\n",
    "len(df.columns)\n"
   ]
  },
  {
   "cell_type": "code",
   "execution_count": 6,
   "metadata": {},
   "outputs": [],
   "source": [
    "df_tsp1 = df.loc[df[\"tsp_file\"] == \"tsp1_253\"]\n",
    "df_tsp1_ci = df_tsp1.loc[df_tsp1[\"algorithm\"] == \"cheapest_insertion\"]\n",
    "df_tsp1_nn = df_tsp1.loc[df_tsp1[\"algorithm\"] == \"nearest_neighbor\"]\n",
    "\n",
    "df_tsp2 = df.loc[df[\"tsp_file\"] == \"tsp2_1248\"]\n",
    "df_tsp2_ci = df_tsp2.loc[df_tsp2[\"algorithm\"] == \"cheapest_insertion\"]\n",
    "df_tsp2_nn = df_tsp2.loc[df_tsp2[\"algorithm\"] == \"nearest_neighbor\"]\n",
    "\n",
    "df_tsp3 = df.loc[df[\"tsp_file\"] == \"tsp3_1194\"]\n",
    "df_tsp3_ci = df_tsp3.loc[df_tsp3[\"algorithm\"] == \"cheapest_insertion\"]\n",
    "df_tsp3_nn = df_tsp3.loc[df_tsp3[\"algorithm\"] == \"nearest_neighbor\"]\n",
    "\n",
    "df_tsp4 = df.loc[df[\"tsp_file\"] == \"tsp4_7013\"]\n",
    "df_tsp4_ci = df_tsp4.loc[df_tsp4[\"algorithm\"] == \"cheapest_insertion\"]\n",
    "df_tsp4_nn = df_tsp4.loc[df_tsp4[\"algorithm\"] == \"nearest_neighbor\"]\n",
    "\n",
    "df_tsp5 = df.loc[df[\"tsp_file\"] == \"tsp5_27603\"]\n",
    "df_tsp5_ci = df_tsp5.loc[df_tsp5[\"algorithm\"] == \"cheapest_insertion\"]\n",
    "df_tsp5_nn = df_tsp5.loc[df_tsp5[\"algorithm\"] == \"nearest_neighbor\"]\n",
    "\n",
    "dfs_ci = [df_tsp1_ci, df_tsp2_ci, df_tsp3_ci, df_tsp4_ci, df_tsp5_ci]\n",
    "dfs_nn = [df_tsp1_nn, df_tsp2_nn, df_tsp3_nn, df_tsp4_nn, df_tsp5_nn]"
   ]
  },
  {
   "cell_type": "code",
   "execution_count": 10,
   "metadata": {},
   "outputs": [
    {
     "data": {
      "text/html": [
       "<div>\n",
       "<style scoped>\n",
       "    .dataframe tbody tr th:only-of-type {\n",
       "        vertical-align: middle;\n",
       "    }\n",
       "\n",
       "    .dataframe tbody tr th {\n",
       "        vertical-align: top;\n",
       "    }\n",
       "\n",
       "    .dataframe thead th {\n",
       "        text-align: right;\n",
       "    }\n",
       "</style>\n",
       "<table border=\"1\" class=\"dataframe\">\n",
       "  <thead>\n",
       "    <tr style=\"text-align: right;\">\n",
       "      <th></th>\n",
       "      <th>tsp_file</th>\n",
       "      <th>algorithm</th>\n",
       "      <th>cost</th>\n",
       "      <th>elapsed_time</th>\n",
       "    </tr>\n",
       "  </thead>\n",
       "  <tbody>\n",
       "    <tr>\n",
       "      <th>0</th>\n",
       "      <td>tsp1_253</td>\n",
       "      <td>cheapest_insertion</td>\n",
       "      <td>258</td>\n",
       "      <td>0.000006</td>\n",
       "    </tr>\n",
       "    <tr>\n",
       "      <th>8</th>\n",
       "      <td>tsp1_253</td>\n",
       "      <td>cheapest_insertion</td>\n",
       "      <td>258</td>\n",
       "      <td>0.000006</td>\n",
       "    </tr>\n",
       "    <tr>\n",
       "      <th>16</th>\n",
       "      <td>tsp1_253</td>\n",
       "      <td>cheapest_insertion</td>\n",
       "      <td>258</td>\n",
       "      <td>0.000006</td>\n",
       "    </tr>\n",
       "    <tr>\n",
       "      <th>24</th>\n",
       "      <td>tsp1_253</td>\n",
       "      <td>cheapest_insertion</td>\n",
       "      <td>258</td>\n",
       "      <td>0.000006</td>\n",
       "    </tr>\n",
       "    <tr>\n",
       "      <th>32</th>\n",
       "      <td>tsp1_253</td>\n",
       "      <td>cheapest_insertion</td>\n",
       "      <td>258</td>\n",
       "      <td>0.000006</td>\n",
       "    </tr>\n",
       "  </tbody>\n",
       "</table>\n",
       "</div>"
      ],
      "text/plain": [
       "    tsp_file           algorithm  cost  elapsed_time\n",
       "0   tsp1_253  cheapest_insertion   258      0.000006\n",
       "8   tsp1_253  cheapest_insertion   258      0.000006\n",
       "16  tsp1_253  cheapest_insertion   258      0.000006\n",
       "24  tsp1_253  cheapest_insertion   258      0.000006\n",
       "32  tsp1_253  cheapest_insertion   258      0.000006"
      ]
     },
     "execution_count": 10,
     "metadata": {},
     "output_type": "execute_result"
    }
   ],
   "source": [
    "df_tsp1_ci.head()"
   ]
  }
 ],
 "metadata": {
  "kernelspec": {
   "display_name": "ds",
   "language": "python",
   "name": "python3"
  },
  "language_info": {
   "codemirror_mode": {
    "name": "ipython",
    "version": 3
   },
   "file_extension": ".py",
   "mimetype": "text/x-python",
   "name": "python",
   "nbconvert_exporter": "python",
   "pygments_lexer": "ipython3",
   "version": "3.10.9"
  },
  "orig_nbformat": 4
 },
 "nbformat": 4,
 "nbformat_minor": 2
}
