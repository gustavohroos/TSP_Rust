{
 "cells": [
  {
   "cell_type": "code",
   "execution_count": 2,
   "metadata": {},
   "outputs": [],
   "source": [
    "import pandas as pd"
   ]
  },
  {
   "cell_type": "code",
   "execution_count": 3,
   "metadata": {},
   "outputs": [],
   "source": [
    "data = pd.read_csv(\"./report_parallelization.csv\")\n",
    "\n",
    "tsp1 = data.loc[data[\"tsp_file\"] == \"tsp1_253\"]\n",
    "tsp2 = data.loc[data[\"tsp_file\"] == \"tsp2_1248\"]"
   ]
  },
  {
   "cell_type": "code",
   "execution_count": 4,
   "metadata": {},
   "outputs": [
    {
     "data": {
      "text/plain": [
       "algorithm\n",
       "bruteforce             14.993771\n",
       "parallel_bruteforce    14.972716\n",
       "Name: elapsed_time, dtype: float64"
      ]
     },
     "execution_count": 4,
     "metadata": {},
     "output_type": "execute_result"
    }
   ],
   "source": [
    "print(\"Média tsp1\")\n",
    "tsp1.groupby(\"algorithm\")[\"elapsed_time\"].mean()"
   ]
  },
  {
   "cell_type": "code",
   "execution_count": 11,
   "metadata": {},
   "outputs": [
    {
     "name": "stdout",
     "output_type": "stream",
     "text": [
      "Média tsp2\n"
     ]
    },
    {
     "data": {
      "text/plain": [
       "algorithm\n",
       "bruteforce             0.000201\n",
       "parallel_bruteforce    0.000852\n",
       "Name: elapsed_time, dtype: float64"
      ]
     },
     "execution_count": 11,
     "metadata": {},
     "output_type": "execute_result"
    }
   ],
   "source": [
    "print(\"Média tsp2\")\n",
    "tsp2.groupby(\"algorithm\")[\"elapsed_time\"].mean()"
   ]
  },
  {
   "cell_type": "code",
   "execution_count": 7,
   "metadata": {},
   "outputs": [
    {
     "data": {
      "text/plain": [
       "algorithm\n",
       "bruteforce             10.572365\n",
       "parallel_bruteforce     1.941079\n",
       "Name: elapsed_time, dtype: float64"
      ]
     },
     "execution_count": 7,
     "metadata": {},
     "output_type": "execute_result"
    }
   ],
   "source": [
    "print(\"Variância tsp1\")\n",
    "tsp1.groupby(\"algorithm\")[\"elapsed_time\"].var()"
   ]
  },
  {
   "cell_type": "code",
   "execution_count": 9,
   "metadata": {},
   "outputs": [
    {
     "name": "stdout",
     "output_type": "stream",
     "text": [
      "Variância tsp2\n"
     ]
    },
    {
     "data": {
      "text/plain": [
       "algorithm\n",
       "bruteforce             7.242157e-09\n",
       "parallel_bruteforce    3.135858e-06\n",
       "Name: elapsed_time, dtype: float64"
      ]
     },
     "execution_count": 9,
     "metadata": {},
     "output_type": "execute_result"
    }
   ],
   "source": [
    "print(\"Variância tsp2\")\n",
    "tsp2.groupby(\"algorithm\")[\"elapsed_time\"].var()"
   ]
  },
  {
   "cell_type": "code",
   "execution_count": 15,
   "metadata": {},
   "outputs": [
    {
     "name": "stdout",
     "output_type": "stream",
     "text": [
      "Desvio padrão tsp1\n"
     ]
    },
    {
     "data": {
      "text/plain": [
       "algorithm\n",
       "bruteforce             3.251517\n",
       "parallel_bruteforce    1.393226\n",
       "Name: elapsed_time, dtype: float64"
      ]
     },
     "execution_count": 15,
     "metadata": {},
     "output_type": "execute_result"
    }
   ],
   "source": [
    "print(\"Desvio padrão tsp1\")\n",
    "tsp1.groupby(\"algorithm\")[\"elapsed_time\"].std()"
   ]
  },
  {
   "cell_type": "code",
   "execution_count": 14,
   "metadata": {},
   "outputs": [
    {
     "name": "stdout",
     "output_type": "stream",
     "text": [
      "Desvio padrão tsp2\n"
     ]
    },
    {
     "data": {
      "text/plain": [
       "algorithm\n",
       "bruteforce             0.000085\n",
       "parallel_bruteforce    0.001771\n",
       "Name: elapsed_time, dtype: float64"
      ]
     },
     "execution_count": 14,
     "metadata": {},
     "output_type": "execute_result"
    }
   ],
   "source": [
    "print(\"Desvio padrão tsp2\")\n",
    "tsp2.groupby(\"algorithm\")[\"elapsed_time\"].std()"
   ]
  }
 ],
 "metadata": {
  "kernelspec": {
   "display_name": "Python 3",
   "language": "python",
   "name": "python3"
  },
  "language_info": {
   "codemirror_mode": {
    "name": "ipython",
    "version": 3
   },
   "file_extension": ".py",
   "mimetype": "text/x-python",
   "name": "python",
   "nbconvert_exporter": "python",
   "pygments_lexer": "ipython3",
   "version": "3.11.4"
  },
  "orig_nbformat": 4
 },
 "nbformat": 4,
 "nbformat_minor": 2
}
